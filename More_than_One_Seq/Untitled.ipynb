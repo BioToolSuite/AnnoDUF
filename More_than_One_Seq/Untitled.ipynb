{
 "cells": [
  {
   "cell_type": "code",
   "execution_count": 3,
   "id": "f033f397-28f7-4961-85aa-ba561eaa5d1c",
   "metadata": {},
   "outputs": [
    {
     "data": {
      "text/plain": [
       "'/home/software/annoduf'"
      ]
     },
     "execution_count": 3,
     "metadata": {},
     "output_type": "execute_result"
    }
   ],
   "source": [
    "import os\n",
    "os.getcwd()\n",
    "# os.chdir(\"/home/software/annoduf\")"
   ]
  },
  {
   "cell_type": "code",
   "execution_count": null,
   "id": "a8a8f71f-76ad-4bbb-b21b-c90e6dc57c13",
   "metadata": {},
   "outputs": [],
   "source": [
    "import pandas as pd\n",
    "df = pd.read_csv(\"new_duf/difference_v35_v37.csv\")\n",
    "df[df['Number_of_Sequence'] == 1].reset_index(drop=True).to_csv(\"new_duf/Codes/DUFs_with_1_Sequence.csv\", index=False)\n",
    "df[df['Number_of_Sequence'] != 1].reset_index(drop=True).to_csv(\"new_duf/Codes/DUFs_More_than_1_Sequence.csv\", index=False)"
   ]
  },
  {
   "cell_type": "code",
   "execution_count": null,
   "id": "59c67fc7-1c3c-4dde-9fc6-5dcd2ab5a5c0",
   "metadata": {},
   "outputs": [],
   "source": [
    "import pandas as pd\n",
    "import numpy as np\n",
    "df = pd.read_csv(\"new_duf/Codes/DUFs_More_than_1_Sequence.csv\")\n",
    "for i, split_df in enumerate(np.array_split(df, 3), start=1):\n",
    "    split_df.reset_index(drop=True).to_csv(f\"new_duf/Codes/DUFs_More_than_1_Sequence_{i}.csv\", index=False)"
   ]
  },
  {
   "cell_type": "markdown",
   "id": "90fa83b5-5eaf-47a2-a24f-b02fd84ac138",
   "metadata": {},
   "source": [
    "**Extract Description from PFam**"
   ]
  },
  {
   "cell_type": "code",
   "execution_count": 6,
   "id": "235ceb21-0987-4d2d-8c35-6ceef6671740",
   "metadata": {},
   "outputs": [],
   "source": [
    "import pandas as pd\n",
    "dufANDpfamID = pd.read_csv(\"new_duf/Test_List_of_DUFs.tsv\", sep=\"\\t\")\n",
    "pfamLst = list(dufANDpfamID[\"pfamID\"])\n",
    "extract_lines = False\n",
    "with open(\"new_duf/template_Pfam_A.full\", 'r') as file:\n",
    "    for line in file:\n",
    "        if line.startswith(\"#=GF AC\") and line.replace('#=GF AC','').strip() in pfamLst:\n",
    "            accID = line.replace('#=GF AC','').strip()\n",
    "            extract_lines = True\n",
    "            gf_cc_lines = []\n",
    "            continue\n",
    "        elif extract_lines and line.startswith(\"#=GF CC\"):\n",
    "            gf_cc_lines.append(line.strip())\n",
    "        elif line.startswith(\"#=GF SQ\"):\n",
    "            if extract_lines:\n",
    "                if gf_cc_lines != []: \n",
    "                    gf_cc_lines =  \" \".join([line.replace(\"#=GF CC\", \"\").lstrip().strip() for line in gf_cc_lines])\n",
    "                    dufANDpfamID.loc[dufANDpfamID['pfamID'] == accID, 'description'] = gf_cc_lines\n",
    "                else: \n",
    "                    dufANDpfamID.loc[dufANDpfamID['pfamID'] == accID, 'description'] = \"\"\n",
    "    \n",
    "            extract_lines = False\n",
    "dufANDpfamID.to_csv(\"new_duf/New_Test_List_of_DUFs.tsv\", sep=\"\\t\")"
   ]
  }
 ],
 "metadata": {
  "kernelspec": {
   "display_name": "Python 3 (ipykernel)",
   "language": "python",
   "name": "python3"
  },
  "language_info": {
   "codemirror_mode": {
    "name": "ipython",
    "version": 3
   },
   "file_extension": ".py",
   "mimetype": "text/x-python",
   "name": "python",
   "nbconvert_exporter": "python",
   "pygments_lexer": "ipython3",
   "version": "3.8.10"
  }
 },
 "nbformat": 4,
 "nbformat_minor": 5
}
